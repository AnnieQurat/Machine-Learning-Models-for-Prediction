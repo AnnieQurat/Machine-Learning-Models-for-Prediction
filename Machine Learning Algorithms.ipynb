{
 "cells": [
  {
   "cell_type": "code",
   "execution_count": 18,
   "metadata": {
    "ExecuteTime": {
     "end_time": "2019-11-22T21:10:19.201922Z",
     "start_time": "2019-11-22T21:10:17.698759Z"
    }
   },
   "outputs": [],
   "source": [
    "#import libraries\n",
    "import numpy as np\n",
    "import scipy as scipy\n",
    "from scipy import misc\n",
    "import pandas as pd\n",
    "import matplotlib.pyplot as plt\n",
    "import matplotlib as mpl\n",
    "import sklearn.linear_model\n",
    "from sklearn.preprocessing import OneHotEncoder\n",
    "from sklearn import preprocessing\n",
    "import warnings\n",
    "warnings.filterwarnings('ignore')"
   ]
  },
  {
   "cell_type": "code",
   "execution_count": 19,
   "metadata": {},
   "outputs": [],
   "source": [
    "#load the data\n",
    "train = pd.read_csv('training_A3.csv')\n",
    "test = pd.read_csv('test_A3.csv')"
   ]
  },
  {
   "cell_type": "markdown",
   "metadata": {},
   "source": [
    "## DATA PREPARATION "
   ]
  },
  {
   "cell_type": "code",
   "execution_count": 20,
   "metadata": {},
   "outputs": [
    {
     "data": {
      "text/html": [
       "<div>\n",
       "<style scoped>\n",
       "    .dataframe tbody tr th:only-of-type {\n",
       "        vertical-align: middle;\n",
       "    }\n",
       "\n",
       "    .dataframe tbody tr th {\n",
       "        vertical-align: top;\n",
       "    }\n",
       "\n",
       "    .dataframe thead th {\n",
       "        text-align: right;\n",
       "    }\n",
       "</style>\n",
       "<table border=\"1\" class=\"dataframe\">\n",
       "  <thead>\n",
       "    <tr style=\"text-align: right;\">\n",
       "      <th></th>\n",
       "      <th>fueltype</th>\n",
       "      <th>aspiration</th>\n",
       "      <th>doornumber</th>\n",
       "      <th>carbody</th>\n",
       "      <th>drivewheel</th>\n",
       "      <th>enginelocation</th>\n",
       "      <th>wheelbase</th>\n",
       "      <th>carlength</th>\n",
       "      <th>carwidth</th>\n",
       "      <th>carheight</th>\n",
       "      <th>...</th>\n",
       "      <th>cylindernumber</th>\n",
       "      <th>enginesize</th>\n",
       "      <th>fuelsystem</th>\n",
       "      <th>boreratio</th>\n",
       "      <th>stroke</th>\n",
       "      <th>compressionratio</th>\n",
       "      <th>horsepower</th>\n",
       "      <th>peakrpm</th>\n",
       "      <th>citympg</th>\n",
       "      <th>highwaympg</th>\n",
       "    </tr>\n",
       "  </thead>\n",
       "  <tbody>\n",
       "    <tr>\n",
       "      <th>0</th>\n",
       "      <td>gas</td>\n",
       "      <td>std</td>\n",
       "      <td>four</td>\n",
       "      <td>sedan</td>\n",
       "      <td>rwd</td>\n",
       "      <td>front</td>\n",
       "      <td>104.3</td>\n",
       "      <td>188.8</td>\n",
       "      <td>67.2</td>\n",
       "      <td>56.2</td>\n",
       "      <td>...</td>\n",
       "      <td>four</td>\n",
       "      <td>141.0</td>\n",
       "      <td>mpfi</td>\n",
       "      <td>NaN</td>\n",
       "      <td>3.15</td>\n",
       "      <td>9.5</td>\n",
       "      <td>114.0</td>\n",
       "      <td>5400.0</td>\n",
       "      <td>24.0</td>\n",
       "      <td>28.0</td>\n",
       "    </tr>\n",
       "    <tr>\n",
       "      <th>1</th>\n",
       "      <td>gas</td>\n",
       "      <td>std</td>\n",
       "      <td>four</td>\n",
       "      <td>wagon</td>\n",
       "      <td>fwd</td>\n",
       "      <td>front</td>\n",
       "      <td>94.5</td>\n",
       "      <td>170.2</td>\n",
       "      <td>63.8</td>\n",
       "      <td>53.5</td>\n",
       "      <td>...</td>\n",
       "      <td>four</td>\n",
       "      <td>97.0</td>\n",
       "      <td>2bbl</td>\n",
       "      <td>3.15</td>\n",
       "      <td>3.29</td>\n",
       "      <td>9.4</td>\n",
       "      <td>69.0</td>\n",
       "      <td>5200.0</td>\n",
       "      <td>31.0</td>\n",
       "      <td>37.0</td>\n",
       "    </tr>\n",
       "    <tr>\n",
       "      <th>2</th>\n",
       "      <td>gas</td>\n",
       "      <td>std</td>\n",
       "      <td>four</td>\n",
       "      <td>sedan</td>\n",
       "      <td>fwd</td>\n",
       "      <td>front</td>\n",
       "      <td>94.5</td>\n",
       "      <td>165.3</td>\n",
       "      <td>63.8</td>\n",
       "      <td>54.5</td>\n",
       "      <td>...</td>\n",
       "      <td>four</td>\n",
       "      <td>NaN</td>\n",
       "      <td>2bbl</td>\n",
       "      <td>3.15</td>\n",
       "      <td>3.29</td>\n",
       "      <td>9.4</td>\n",
       "      <td>69.0</td>\n",
       "      <td>5200.0</td>\n",
       "      <td>31.0</td>\n",
       "      <td>37.0</td>\n",
       "    </tr>\n",
       "    <tr>\n",
       "      <th>3</th>\n",
       "      <td>gas</td>\n",
       "      <td>std</td>\n",
       "      <td>four</td>\n",
       "      <td>sedan</td>\n",
       "      <td>rwd</td>\n",
       "      <td>front</td>\n",
       "      <td>104.5</td>\n",
       "      <td>187.8</td>\n",
       "      <td>66.5</td>\n",
       "      <td>54.1</td>\n",
       "      <td>...</td>\n",
       "      <td>six</td>\n",
       "      <td>171.0</td>\n",
       "      <td>mpfi</td>\n",
       "      <td>3.27</td>\n",
       "      <td>3.35</td>\n",
       "      <td>9.2</td>\n",
       "      <td>156.0</td>\n",
       "      <td>5200.0</td>\n",
       "      <td>20.0</td>\n",
       "      <td>24.0</td>\n",
       "    </tr>\n",
       "    <tr>\n",
       "      <th>4</th>\n",
       "      <td>gas</td>\n",
       "      <td>std</td>\n",
       "      <td>four</td>\n",
       "      <td>sedan</td>\n",
       "      <td>fwd</td>\n",
       "      <td>front</td>\n",
       "      <td>93.7</td>\n",
       "      <td>167.3</td>\n",
       "      <td>NaN</td>\n",
       "      <td>50.8</td>\n",
       "      <td>...</td>\n",
       "      <td>four</td>\n",
       "      <td>90.0</td>\n",
       "      <td>2bbl</td>\n",
       "      <td>2.97</td>\n",
       "      <td>3.23</td>\n",
       "      <td>9.4</td>\n",
       "      <td>68.0</td>\n",
       "      <td>5500.0</td>\n",
       "      <td>31.0</td>\n",
       "      <td>38.0</td>\n",
       "    </tr>\n",
       "  </tbody>\n",
       "</table>\n",
       "<p>5 rows × 22 columns</p>\n",
       "</div>"
      ],
      "text/plain": [
       "  fueltype aspiration doornumber carbody drivewheel enginelocation  wheelbase  \\\n",
       "0      gas        std       four   sedan        rwd          front      104.3   \n",
       "1      gas        std       four   wagon        fwd          front       94.5   \n",
       "2      gas        std       four   sedan        fwd          front       94.5   \n",
       "3      gas        std       four   sedan        rwd          front      104.5   \n",
       "4      gas        std       four   sedan        fwd          front       93.7   \n",
       "\n",
       "   carlength  carwidth  carheight     ...      cylindernumber enginesize  \\\n",
       "0      188.8      67.2       56.2     ...                four      141.0   \n",
       "1      170.2      63.8       53.5     ...                four       97.0   \n",
       "2      165.3      63.8       54.5     ...                four        NaN   \n",
       "3      187.8      66.5       54.1     ...                 six      171.0   \n",
       "4      167.3       NaN       50.8     ...                four       90.0   \n",
       "\n",
       "  fuelsystem  boreratio stroke  compressionratio  horsepower  peakrpm  \\\n",
       "0       mpfi        NaN   3.15               9.5       114.0   5400.0   \n",
       "1       2bbl       3.15   3.29               9.4        69.0   5200.0   \n",
       "2       2bbl       3.15   3.29               9.4        69.0   5200.0   \n",
       "3       mpfi       3.27   3.35               9.2       156.0   5200.0   \n",
       "4       2bbl       2.97   3.23               9.4        68.0   5500.0   \n",
       "\n",
       "   citympg  highwaympg  \n",
       "0     24.0        28.0  \n",
       "1     31.0        37.0  \n",
       "2     31.0        37.0  \n",
       "3     20.0        24.0  \n",
       "4     31.0        38.0  \n",
       "\n",
       "[5 rows x 22 columns]"
      ]
     },
     "execution_count": 20,
     "metadata": {},
     "output_type": "execute_result"
    }
   ],
   "source": [
    "#split train dataset in x (independent) and y (dependent)\n",
    "train_x_a = train.drop(\"price\",axis=1)\n",
    "train_y = train[[\"price\"]]\n",
    "\n",
    "train_x_a.head()"
   ]
  },
  {
   "cell_type": "code",
   "execution_count": 21,
   "metadata": {},
   "outputs": [
    {
     "data": {
      "text/html": [
       "<div>\n",
       "<style scoped>\n",
       "    .dataframe tbody tr th:only-of-type {\n",
       "        vertical-align: middle;\n",
       "    }\n",
       "\n",
       "    .dataframe tbody tr th {\n",
       "        vertical-align: top;\n",
       "    }\n",
       "\n",
       "    .dataframe thead th {\n",
       "        text-align: right;\n",
       "    }\n",
       "</style>\n",
       "<table border=\"1\" class=\"dataframe\">\n",
       "  <thead>\n",
       "    <tr style=\"text-align: right;\">\n",
       "      <th></th>\n",
       "      <th>price</th>\n",
       "    </tr>\n",
       "  </thead>\n",
       "  <tbody>\n",
       "    <tr>\n",
       "      <th>18</th>\n",
       "      <td>NaN</td>\n",
       "    </tr>\n",
       "    <tr>\n",
       "      <th>37</th>\n",
       "      <td>NaN</td>\n",
       "    </tr>\n",
       "    <tr>\n",
       "      <th>47</th>\n",
       "      <td>NaN</td>\n",
       "    </tr>\n",
       "    <tr>\n",
       "      <th>69</th>\n",
       "      <td>NaN</td>\n",
       "    </tr>\n",
       "    <tr>\n",
       "      <th>71</th>\n",
       "      <td>NaN</td>\n",
       "    </tr>\n",
       "    <tr>\n",
       "      <th>81</th>\n",
       "      <td>NaN</td>\n",
       "    </tr>\n",
       "    <tr>\n",
       "      <th>82</th>\n",
       "      <td>NaN</td>\n",
       "    </tr>\n",
       "    <tr>\n",
       "      <th>100</th>\n",
       "      <td>NaN</td>\n",
       "    </tr>\n",
       "    <tr>\n",
       "      <th>107</th>\n",
       "      <td>NaN</td>\n",
       "    </tr>\n",
       "  </tbody>\n",
       "</table>\n",
       "</div>"
      ],
      "text/plain": [
       "     price\n",
       "18     NaN\n",
       "37     NaN\n",
       "47     NaN\n",
       "69     NaN\n",
       "71     NaN\n",
       "81     NaN\n",
       "82     NaN\n",
       "100    NaN\n",
       "107    NaN"
      ]
     },
     "execution_count": 21,
     "metadata": {},
     "output_type": "execute_result"
    }
   ],
   "source": [
    "#view null rows in price column\n",
    "train_y[pd.isnull(train_y).any(axis = 1)]"
   ]
  },
  {
   "cell_type": "code",
   "execution_count": 22,
   "metadata": {
    "scrolled": true
   },
   "outputs": [
    {
     "data": {
      "text/html": [
       "<div>\n",
       "<style scoped>\n",
       "    .dataframe tbody tr th:only-of-type {\n",
       "        vertical-align: middle;\n",
       "    }\n",
       "\n",
       "    .dataframe tbody tr th {\n",
       "        vertical-align: top;\n",
       "    }\n",
       "\n",
       "    .dataframe thead th {\n",
       "        text-align: right;\n",
       "    }\n",
       "</style>\n",
       "<table border=\"1\" class=\"dataframe\">\n",
       "  <thead>\n",
       "    <tr style=\"text-align: right;\">\n",
       "      <th></th>\n",
       "      <th>fueltype</th>\n",
       "      <th>aspiration</th>\n",
       "      <th>doornumber</th>\n",
       "      <th>carbody</th>\n",
       "      <th>drivewheel</th>\n",
       "      <th>enginelocation</th>\n",
       "      <th>wheelbase</th>\n",
       "      <th>carlength</th>\n",
       "      <th>carwidth</th>\n",
       "      <th>carheight</th>\n",
       "      <th>...</th>\n",
       "      <th>cylindernumber</th>\n",
       "      <th>enginesize</th>\n",
       "      <th>fuelsystem</th>\n",
       "      <th>boreratio</th>\n",
       "      <th>stroke</th>\n",
       "      <th>compressionratio</th>\n",
       "      <th>horsepower</th>\n",
       "      <th>peakrpm</th>\n",
       "      <th>citympg</th>\n",
       "      <th>highwaympg</th>\n",
       "    </tr>\n",
       "  </thead>\n",
       "  <tbody>\n",
       "    <tr>\n",
       "      <th>0</th>\n",
       "      <td>gas</td>\n",
       "      <td>std</td>\n",
       "      <td>four</td>\n",
       "      <td>sedan</td>\n",
       "      <td>rwd</td>\n",
       "      <td>front</td>\n",
       "      <td>104.3</td>\n",
       "      <td>188.8</td>\n",
       "      <td>67.2</td>\n",
       "      <td>56.2</td>\n",
       "      <td>...</td>\n",
       "      <td>four</td>\n",
       "      <td>141.0</td>\n",
       "      <td>mpfi</td>\n",
       "      <td>NaN</td>\n",
       "      <td>3.15</td>\n",
       "      <td>9.5</td>\n",
       "      <td>114.0</td>\n",
       "      <td>5400.0</td>\n",
       "      <td>24.0</td>\n",
       "      <td>28.0</td>\n",
       "    </tr>\n",
       "    <tr>\n",
       "      <th>1</th>\n",
       "      <td>gas</td>\n",
       "      <td>std</td>\n",
       "      <td>four</td>\n",
       "      <td>wagon</td>\n",
       "      <td>fwd</td>\n",
       "      <td>front</td>\n",
       "      <td>94.5</td>\n",
       "      <td>170.2</td>\n",
       "      <td>63.8</td>\n",
       "      <td>53.5</td>\n",
       "      <td>...</td>\n",
       "      <td>four</td>\n",
       "      <td>97.0</td>\n",
       "      <td>2bbl</td>\n",
       "      <td>3.15</td>\n",
       "      <td>3.29</td>\n",
       "      <td>9.4</td>\n",
       "      <td>69.0</td>\n",
       "      <td>5200.0</td>\n",
       "      <td>31.0</td>\n",
       "      <td>37.0</td>\n",
       "    </tr>\n",
       "  </tbody>\n",
       "</table>\n",
       "<p>2 rows × 22 columns</p>\n",
       "</div>"
      ],
      "text/plain": [
       "  fueltype aspiration doornumber carbody drivewheel enginelocation  wheelbase  \\\n",
       "0      gas        std       four   sedan        rwd          front      104.3   \n",
       "1      gas        std       four   wagon        fwd          front       94.5   \n",
       "\n",
       "   carlength  carwidth  carheight     ...      cylindernumber enginesize  \\\n",
       "0      188.8      67.2       56.2     ...                four      141.0   \n",
       "1      170.2      63.8       53.5     ...                four       97.0   \n",
       "\n",
       "  fuelsystem  boreratio stroke  compressionratio  horsepower  peakrpm  \\\n",
       "0       mpfi        NaN   3.15               9.5       114.0   5400.0   \n",
       "1       2bbl       3.15   3.29               9.4        69.0   5200.0   \n",
       "\n",
       "   citympg  highwaympg  \n",
       "0     24.0        28.0  \n",
       "1     31.0        37.0  \n",
       "\n",
       "[2 rows x 22 columns]"
      ]
     },
     "execution_count": 22,
     "metadata": {},
     "output_type": "execute_result"
    }
   ],
   "source": [
    "##Delete rows that dependent has null value\n",
    "train_x_a = train_x_a.drop([18,37,47,69,71,81,82,100,107])\n",
    "train_x_a.head(2)"
   ]
  },
  {
   "cell_type": "code",
   "execution_count": 23,
   "metadata": {},
   "outputs": [
    {
     "data": {
      "text/plain": [
       "fueltype             0\n",
       "aspiration           0\n",
       "doornumber           0\n",
       "carbody              0\n",
       "drivewheel           0\n",
       "enginelocation       0\n",
       "wheelbase            8\n",
       "carlength            4\n",
       "carwidth             7\n",
       "carheight            9\n",
       "curbweight           6\n",
       "enginetype           0\n",
       "cylindernumber       0\n",
       "enginesize          10\n",
       "fuelsystem           0\n",
       "boreratio           11\n",
       "stroke               3\n",
       "compressionratio    11\n",
       "horsepower           5\n",
       "peakrpm              9\n",
       "citympg              4\n",
       "highwaympg           7\n",
       "dtype: int64"
      ]
     },
     "execution_count": 23,
     "metadata": {},
     "output_type": "execute_result"
    }
   ],
   "source": [
    "#find columns containing missing (NaN) values, store column names in a list called nan_columns:\n",
    "train_x_a.isnull().sum()"
   ]
  },
  {
   "cell_type": "code",
   "execution_count": 24,
   "metadata": {},
   "outputs": [],
   "source": [
    "##fill missing values of nan column with median\n",
    "nan_train_columns = train_x_a[['wheelbase','carlength','carwidth','carheight','curbweight','enginesize','boreratio','stroke','compressionratio','horsepower','peakrpm','citympg','highwaympg']]\n",
    "train_x_b = nan_train_columns.fillna(nan_train_columns.median())\n",
    "median_values = nan_train_columns.median()\n",
    "#drop null values from train_y\n",
    "train_y = train_y.dropna(subset = ['price'])"
   ]
  },
  {
   "cell_type": "code",
   "execution_count": 25,
   "metadata": {},
   "outputs": [],
   "source": [
    "##columns that contain categorical values\n",
    "categorical_columns = (train_x_a.loc[:, train_x_a.dtypes == object])\n",
    "train_x_c = pd.Categorical(categorical_columns)\n",
    "train_x_c = pd.get_dummies(categorical_columns)\n",
    "train_x_d = pd.concat([train_x_b, train_x_c], axis = 1)"
   ]
  },
  {
   "cell_type": "code",
   "execution_count": 26,
   "metadata": {},
   "outputs": [],
   "source": [
    "##Feature Scaling\n",
    "from sklearn.preprocessing import StandardScaler\n",
    "ss = StandardScaler()\n",
    "train_x_e = ss.fit_transform(train_x_d)\n",
    "train_x_e = pd.DataFrame(train_x_e, columns = train_x_d.columns)\n",
    "\n"
   ]
  },
  {
   "cell_type": "code",
   "execution_count": 27,
   "metadata": {
    "scrolled": true
   },
   "outputs": [
    {
     "data": {
      "text/html": [
       "<div>\n",
       "<style scoped>\n",
       "    .dataframe tbody tr th:only-of-type {\n",
       "        vertical-align: middle;\n",
       "    }\n",
       "\n",
       "    .dataframe tbody tr th {\n",
       "        vertical-align: top;\n",
       "    }\n",
       "\n",
       "    .dataframe thead th {\n",
       "        text-align: right;\n",
       "    }\n",
       "</style>\n",
       "<table border=\"1\" class=\"dataframe\">\n",
       "  <thead>\n",
       "    <tr style=\"text-align: right;\">\n",
       "      <th></th>\n",
       "      <th>price</th>\n",
       "    </tr>\n",
       "  </thead>\n",
       "  <tbody>\n",
       "    <tr>\n",
       "      <th>10</th>\n",
       "      <td>NaN</td>\n",
       "    </tr>\n",
       "  </tbody>\n",
       "</table>\n",
       "</div>"
      ],
      "text/plain": [
       "    price\n",
       "10    NaN"
      ]
     },
     "execution_count": 27,
     "metadata": {},
     "output_type": "execute_result"
    }
   ],
   "source": [
    "test_x = pd.DataFrame(test,  columns = ['fueltype','aspiration','doornumber','carbody','drivewheel','enginelocation','wheelbase','carlength','carwidth','carheight','curbweight','enginetype','cylindernumber','enginesize','fuelsystem','boreratio','stroke','compressionratio','horsepower','peakrpm','citympg','highwaympg'])\n",
    "test_y = pd.DataFrame(test,  columns = ['price'])\n",
    "\n",
    "test_y[pd.isnull(test_y).any(axis = 1)]\n"
   ]
  },
  {
   "cell_type": "code",
   "execution_count": 28,
   "metadata": {
    "scrolled": true
   },
   "outputs": [
    {
     "data": {
      "text/html": [
       "<div>\n",
       "<style scoped>\n",
       "    .dataframe tbody tr th:only-of-type {\n",
       "        vertical-align: middle;\n",
       "    }\n",
       "\n",
       "    .dataframe tbody tr th {\n",
       "        vertical-align: top;\n",
       "    }\n",
       "\n",
       "    .dataframe thead th {\n",
       "        text-align: right;\n",
       "    }\n",
       "</style>\n",
       "<table border=\"1\" class=\"dataframe\">\n",
       "  <thead>\n",
       "    <tr style=\"text-align: right;\">\n",
       "      <th></th>\n",
       "      <th>fueltype</th>\n",
       "      <th>aspiration</th>\n",
       "      <th>doornumber</th>\n",
       "      <th>carbody</th>\n",
       "      <th>drivewheel</th>\n",
       "      <th>enginelocation</th>\n",
       "      <th>wheelbase</th>\n",
       "      <th>carlength</th>\n",
       "      <th>carwidth</th>\n",
       "      <th>carheight</th>\n",
       "      <th>...</th>\n",
       "      <th>cylindernumber</th>\n",
       "      <th>enginesize</th>\n",
       "      <th>fuelsystem</th>\n",
       "      <th>boreratio</th>\n",
       "      <th>stroke</th>\n",
       "      <th>compressionratio</th>\n",
       "      <th>horsepower</th>\n",
       "      <th>peakrpm</th>\n",
       "      <th>citympg</th>\n",
       "      <th>highwaympg</th>\n",
       "    </tr>\n",
       "  </thead>\n",
       "  <tbody>\n",
       "    <tr>\n",
       "      <th>0</th>\n",
       "      <td>gas</td>\n",
       "      <td>std</td>\n",
       "      <td>four</td>\n",
       "      <td>wagon</td>\n",
       "      <td>fwd</td>\n",
       "      <td>front</td>\n",
       "      <td>105.8</td>\n",
       "      <td>192.7</td>\n",
       "      <td>71.4</td>\n",
       "      <td>55.7</td>\n",
       "      <td>...</td>\n",
       "      <td>five</td>\n",
       "      <td>136.0</td>\n",
       "      <td>mpfi</td>\n",
       "      <td>3.19</td>\n",
       "      <td>3.40</td>\n",
       "      <td>8.5</td>\n",
       "      <td>110.0</td>\n",
       "      <td>5500.0</td>\n",
       "      <td>19.0</td>\n",
       "      <td>25.0</td>\n",
       "    </tr>\n",
       "    <tr>\n",
       "      <th>1</th>\n",
       "      <td>gas</td>\n",
       "      <td>std</td>\n",
       "      <td>four</td>\n",
       "      <td>sedan</td>\n",
       "      <td>fwd</td>\n",
       "      <td>front</td>\n",
       "      <td>96.5</td>\n",
       "      <td>175.4</td>\n",
       "      <td>62.5</td>\n",
       "      <td>54.1</td>\n",
       "      <td>...</td>\n",
       "      <td>four</td>\n",
       "      <td>110.0</td>\n",
       "      <td>1bbl</td>\n",
       "      <td>3.15</td>\n",
       "      <td>3.58</td>\n",
       "      <td>9.0</td>\n",
       "      <td>86.0</td>\n",
       "      <td>NaN</td>\n",
       "      <td>27.0</td>\n",
       "      <td>33.0</td>\n",
       "    </tr>\n",
       "    <tr>\n",
       "      <th>2</th>\n",
       "      <td>diesel</td>\n",
       "      <td>turbo</td>\n",
       "      <td>two</td>\n",
       "      <td>hardtop</td>\n",
       "      <td>rwd</td>\n",
       "      <td>front</td>\n",
       "      <td>106.7</td>\n",
       "      <td>187.5</td>\n",
       "      <td>70.3</td>\n",
       "      <td>54.9</td>\n",
       "      <td>...</td>\n",
       "      <td>five</td>\n",
       "      <td>183.0</td>\n",
       "      <td>idi</td>\n",
       "      <td>3.58</td>\n",
       "      <td>3.64</td>\n",
       "      <td>21.5</td>\n",
       "      <td>123.0</td>\n",
       "      <td>4350.0</td>\n",
       "      <td>22.0</td>\n",
       "      <td>25.0</td>\n",
       "    </tr>\n",
       "    <tr>\n",
       "      <th>3</th>\n",
       "      <td>gas</td>\n",
       "      <td>std</td>\n",
       "      <td>four</td>\n",
       "      <td>sedan</td>\n",
       "      <td>rwd</td>\n",
       "      <td>front</td>\n",
       "      <td>113.0</td>\n",
       "      <td>199.6</td>\n",
       "      <td>69.6</td>\n",
       "      <td>52.8</td>\n",
       "      <td>...</td>\n",
       "      <td>six</td>\n",
       "      <td>258.0</td>\n",
       "      <td>mpfi</td>\n",
       "      <td>3.63</td>\n",
       "      <td>4.17</td>\n",
       "      <td>8.1</td>\n",
       "      <td>176.0</td>\n",
       "      <td>4750.0</td>\n",
       "      <td>15.0</td>\n",
       "      <td>19.0</td>\n",
       "    </tr>\n",
       "    <tr>\n",
       "      <th>4</th>\n",
       "      <td>gas</td>\n",
       "      <td>std</td>\n",
       "      <td>two</td>\n",
       "      <td>hardtop</td>\n",
       "      <td>rwd</td>\n",
       "      <td>rear</td>\n",
       "      <td>89.5</td>\n",
       "      <td>168.9</td>\n",
       "      <td>65.0</td>\n",
       "      <td>51.6</td>\n",
       "      <td>...</td>\n",
       "      <td>six</td>\n",
       "      <td>194.0</td>\n",
       "      <td>mpfi</td>\n",
       "      <td>3.74</td>\n",
       "      <td>2.90</td>\n",
       "      <td>9.5</td>\n",
       "      <td>207.0</td>\n",
       "      <td>5900.0</td>\n",
       "      <td>17.0</td>\n",
       "      <td>NaN</td>\n",
       "    </tr>\n",
       "  </tbody>\n",
       "</table>\n",
       "<p>5 rows × 22 columns</p>\n",
       "</div>"
      ],
      "text/plain": [
       "  fueltype aspiration doornumber  carbody drivewheel enginelocation  \\\n",
       "0      gas        std       four    wagon        fwd          front   \n",
       "1      gas        std       four    sedan        fwd          front   \n",
       "2   diesel      turbo        two  hardtop        rwd          front   \n",
       "3      gas        std       four    sedan        rwd          front   \n",
       "4      gas        std        two  hardtop        rwd           rear   \n",
       "\n",
       "   wheelbase  carlength  carwidth  carheight     ...      cylindernumber  \\\n",
       "0      105.8      192.7      71.4       55.7     ...                five   \n",
       "1       96.5      175.4      62.5       54.1     ...                four   \n",
       "2      106.7      187.5      70.3       54.9     ...                five   \n",
       "3      113.0      199.6      69.6       52.8     ...                 six   \n",
       "4       89.5      168.9      65.0       51.6     ...                 six   \n",
       "\n",
       "  enginesize fuelsystem  boreratio stroke  compressionratio  horsepower  \\\n",
       "0      136.0       mpfi       3.19   3.40               8.5       110.0   \n",
       "1      110.0       1bbl       3.15   3.58               9.0        86.0   \n",
       "2      183.0        idi       3.58   3.64              21.5       123.0   \n",
       "3      258.0       mpfi       3.63   4.17               8.1       176.0   \n",
       "4      194.0       mpfi       3.74   2.90               9.5       207.0   \n",
       "\n",
       "   peakrpm  citympg  highwaympg  \n",
       "0   5500.0     19.0        25.0  \n",
       "1      NaN     27.0        33.0  \n",
       "2   4350.0     22.0        25.0  \n",
       "3   4750.0     15.0        19.0  \n",
       "4   5900.0     17.0         NaN  \n",
       "\n",
       "[5 rows x 22 columns]"
      ]
     },
     "execution_count": 28,
     "metadata": {},
     "output_type": "execute_result"
    }
   ],
   "source": [
    "test_x = test_x.drop([10])\n",
    "test_x.head()"
   ]
  },
  {
   "cell_type": "code",
   "execution_count": 29,
   "metadata": {},
   "outputs": [
    {
     "data": {
      "text/plain": [
       "fueltype            0\n",
       "aspiration          0\n",
       "doornumber          0\n",
       "carbody             0\n",
       "drivewheel          0\n",
       "enginelocation      0\n",
       "wheelbase           3\n",
       "carlength           1\n",
       "carwidth            1\n",
       "carheight           2\n",
       "curbweight          3\n",
       "enginetype          0\n",
       "cylindernumber      0\n",
       "enginesize          1\n",
       "fuelsystem          0\n",
       "boreratio           0\n",
       "stroke              1\n",
       "compressionratio    1\n",
       "horsepower          3\n",
       "peakrpm             2\n",
       "citympg             2\n",
       "highwaympg          1\n",
       "dtype: int64"
      ]
     },
     "execution_count": 29,
     "metadata": {},
     "output_type": "execute_result"
    }
   ],
   "source": [
    "test_x.isnull().sum()"
   ]
  },
  {
   "cell_type": "code",
   "execution_count": 30,
   "metadata": {},
   "outputs": [
    {
     "data": {
      "text/html": [
       "<div>\n",
       "<style scoped>\n",
       "    .dataframe tbody tr th:only-of-type {\n",
       "        vertical-align: middle;\n",
       "    }\n",
       "\n",
       "    .dataframe tbody tr th {\n",
       "        vertical-align: top;\n",
       "    }\n",
       "\n",
       "    .dataframe thead th {\n",
       "        text-align: right;\n",
       "    }\n",
       "</style>\n",
       "<table border=\"1\" class=\"dataframe\">\n",
       "  <thead>\n",
       "    <tr style=\"text-align: right;\">\n",
       "      <th></th>\n",
       "      <th>boreratio</th>\n",
       "      <th>carwidth</th>\n",
       "      <th>wheelbase</th>\n",
       "      <th>carheight</th>\n",
       "      <th>carlength</th>\n",
       "      <th>stroke</th>\n",
       "      <th>curbweight</th>\n",
       "      <th>enginesize</th>\n",
       "      <th>compressionratio</th>\n",
       "      <th>horsepower</th>\n",
       "      <th>peakrpm</th>\n",
       "      <th>citympg</th>\n",
       "      <th>highwaympg</th>\n",
       "    </tr>\n",
       "  </thead>\n",
       "  <tbody>\n",
       "    <tr>\n",
       "      <th>0</th>\n",
       "      <td>3.19</td>\n",
       "      <td>71.4</td>\n",
       "      <td>105.8</td>\n",
       "      <td>55.7</td>\n",
       "      <td>192.7</td>\n",
       "      <td>3.40</td>\n",
       "      <td>2954.0</td>\n",
       "      <td>136.0</td>\n",
       "      <td>8.5</td>\n",
       "      <td>110.0</td>\n",
       "      <td>5500.0</td>\n",
       "      <td>19.0</td>\n",
       "      <td>25.0</td>\n",
       "    </tr>\n",
       "    <tr>\n",
       "      <th>1</th>\n",
       "      <td>3.15</td>\n",
       "      <td>62.5</td>\n",
       "      <td>96.5</td>\n",
       "      <td>54.1</td>\n",
       "      <td>175.4</td>\n",
       "      <td>3.58</td>\n",
       "      <td>2372.0</td>\n",
       "      <td>110.0</td>\n",
       "      <td>9.0</td>\n",
       "      <td>86.0</td>\n",
       "      <td>5200.0</td>\n",
       "      <td>27.0</td>\n",
       "      <td>33.0</td>\n",
       "    </tr>\n",
       "    <tr>\n",
       "      <th>2</th>\n",
       "      <td>3.58</td>\n",
       "      <td>70.3</td>\n",
       "      <td>106.7</td>\n",
       "      <td>54.9</td>\n",
       "      <td>187.5</td>\n",
       "      <td>3.64</td>\n",
       "      <td>3495.0</td>\n",
       "      <td>183.0</td>\n",
       "      <td>21.5</td>\n",
       "      <td>123.0</td>\n",
       "      <td>4350.0</td>\n",
       "      <td>22.0</td>\n",
       "      <td>25.0</td>\n",
       "    </tr>\n",
       "    <tr>\n",
       "      <th>3</th>\n",
       "      <td>3.63</td>\n",
       "      <td>69.6</td>\n",
       "      <td>113.0</td>\n",
       "      <td>52.8</td>\n",
       "      <td>199.6</td>\n",
       "      <td>4.17</td>\n",
       "      <td>4066.0</td>\n",
       "      <td>258.0</td>\n",
       "      <td>8.1</td>\n",
       "      <td>176.0</td>\n",
       "      <td>4750.0</td>\n",
       "      <td>15.0</td>\n",
       "      <td>19.0</td>\n",
       "    </tr>\n",
       "    <tr>\n",
       "      <th>4</th>\n",
       "      <td>3.74</td>\n",
       "      <td>65.0</td>\n",
       "      <td>89.5</td>\n",
       "      <td>51.6</td>\n",
       "      <td>168.9</td>\n",
       "      <td>2.90</td>\n",
       "      <td>2756.0</td>\n",
       "      <td>194.0</td>\n",
       "      <td>9.5</td>\n",
       "      <td>207.0</td>\n",
       "      <td>5900.0</td>\n",
       "      <td>17.0</td>\n",
       "      <td>30.0</td>\n",
       "    </tr>\n",
       "  </tbody>\n",
       "</table>\n",
       "</div>"
      ],
      "text/plain": [
       "   boreratio  carwidth  wheelbase  carheight  carlength  stroke  curbweight  \\\n",
       "0       3.19      71.4      105.8       55.7      192.7    3.40      2954.0   \n",
       "1       3.15      62.5       96.5       54.1      175.4    3.58      2372.0   \n",
       "2       3.58      70.3      106.7       54.9      187.5    3.64      3495.0   \n",
       "3       3.63      69.6      113.0       52.8      199.6    4.17      4066.0   \n",
       "4       3.74      65.0       89.5       51.6      168.9    2.90      2756.0   \n",
       "\n",
       "   enginesize  compressionratio  horsepower  peakrpm  citympg  highwaympg  \n",
       "0       136.0               8.5       110.0   5500.0     19.0        25.0  \n",
       "1       110.0               9.0        86.0   5200.0     27.0        33.0  \n",
       "2       183.0              21.5       123.0   4350.0     22.0        25.0  \n",
       "3       258.0               8.1       176.0   4750.0     15.0        19.0  \n",
       "4       194.0               9.5       207.0   5900.0     17.0        30.0  "
      ]
     },
     "execution_count": 30,
     "metadata": {},
     "output_type": "execute_result"
    }
   ],
   "source": [
    "##Fill missing value of nan column with median values\n",
    "nancols = test_x[['carwidth','wheelbase','carheight','carlength','stroke','curbweight','enginesize','compressionratio','horsepower','peakrpm','citympg','highwaympg']]\n",
    "test_x_a = nancols.fillna(median_values)\n",
    "\n",
    "test_x_a = pd.concat([test_x['boreratio'], test_x_a ], axis = 1)\n",
    "test_y = test_y.dropna(subset = ['price'])\n",
    "test_x_a.head()"
   ]
  },
  {
   "cell_type": "code",
   "execution_count": 31,
   "metadata": {},
   "outputs": [
    {
     "data": {
      "text/html": [
       "<div>\n",
       "<style scoped>\n",
       "    .dataframe tbody tr th:only-of-type {\n",
       "        vertical-align: middle;\n",
       "    }\n",
       "\n",
       "    .dataframe tbody tr th {\n",
       "        vertical-align: top;\n",
       "    }\n",
       "\n",
       "    .dataframe thead th {\n",
       "        text-align: right;\n",
       "    }\n",
       "</style>\n",
       "<table border=\"1\" class=\"dataframe\">\n",
       "  <thead>\n",
       "    <tr style=\"text-align: right;\">\n",
       "      <th></th>\n",
       "      <th>fueltype</th>\n",
       "      <th>aspiration</th>\n",
       "      <th>doornumber</th>\n",
       "      <th>carbody</th>\n",
       "      <th>drivewheel</th>\n",
       "      <th>enginelocation</th>\n",
       "      <th>enginetype</th>\n",
       "      <th>cylindernumber</th>\n",
       "      <th>fuelsystem</th>\n",
       "    </tr>\n",
       "  </thead>\n",
       "  <tbody>\n",
       "    <tr>\n",
       "      <th>0</th>\n",
       "      <td>gas</td>\n",
       "      <td>std</td>\n",
       "      <td>four</td>\n",
       "      <td>wagon</td>\n",
       "      <td>fwd</td>\n",
       "      <td>front</td>\n",
       "      <td>ohc</td>\n",
       "      <td>five</td>\n",
       "      <td>mpfi</td>\n",
       "    </tr>\n",
       "    <tr>\n",
       "      <th>1</th>\n",
       "      <td>gas</td>\n",
       "      <td>std</td>\n",
       "      <td>four</td>\n",
       "      <td>sedan</td>\n",
       "      <td>fwd</td>\n",
       "      <td>front</td>\n",
       "      <td>ohc</td>\n",
       "      <td>four</td>\n",
       "      <td>1bbl</td>\n",
       "    </tr>\n",
       "    <tr>\n",
       "      <th>2</th>\n",
       "      <td>diesel</td>\n",
       "      <td>turbo</td>\n",
       "      <td>two</td>\n",
       "      <td>hardtop</td>\n",
       "      <td>rwd</td>\n",
       "      <td>front</td>\n",
       "      <td>ohc</td>\n",
       "      <td>five</td>\n",
       "      <td>idi</td>\n",
       "    </tr>\n",
       "    <tr>\n",
       "      <th>3</th>\n",
       "      <td>gas</td>\n",
       "      <td>std</td>\n",
       "      <td>four</td>\n",
       "      <td>sedan</td>\n",
       "      <td>rwd</td>\n",
       "      <td>front</td>\n",
       "      <td>dohc</td>\n",
       "      <td>six</td>\n",
       "      <td>mpfi</td>\n",
       "    </tr>\n",
       "    <tr>\n",
       "      <th>4</th>\n",
       "      <td>gas</td>\n",
       "      <td>std</td>\n",
       "      <td>two</td>\n",
       "      <td>hardtop</td>\n",
       "      <td>rwd</td>\n",
       "      <td>rear</td>\n",
       "      <td>ohcf</td>\n",
       "      <td>six</td>\n",
       "      <td>mpfi</td>\n",
       "    </tr>\n",
       "  </tbody>\n",
       "</table>\n",
       "</div>"
      ],
      "text/plain": [
       "  fueltype aspiration doornumber  carbody drivewheel enginelocation  \\\n",
       "0      gas        std       four    wagon        fwd          front   \n",
       "1      gas        std       four    sedan        fwd          front   \n",
       "2   diesel      turbo        two  hardtop        rwd          front   \n",
       "3      gas        std       four    sedan        rwd          front   \n",
       "4      gas        std        two  hardtop        rwd           rear   \n",
       "\n",
       "  enginetype cylindernumber fuelsystem  \n",
       "0        ohc           five       mpfi  \n",
       "1        ohc           four       1bbl  \n",
       "2        ohc           five        idi  \n",
       "3       dohc            six       mpfi  \n",
       "4       ohcf            six       mpfi  "
      ]
     },
     "execution_count": 31,
     "metadata": {},
     "output_type": "execute_result"
    }
   ],
   "source": [
    "##Columns that contain categorial values\n",
    "categorical_columns= (test_x.loc[:, test_x.dtypes == object])\n",
    "categorical_columns.head()\n",
    "\n"
   ]
  },
  {
   "cell_type": "code",
   "execution_count": 32,
   "metadata": {},
   "outputs": [
    {
     "data": {
      "text/html": [
       "<div>\n",
       "<style scoped>\n",
       "    .dataframe tbody tr th:only-of-type {\n",
       "        vertical-align: middle;\n",
       "    }\n",
       "\n",
       "    .dataframe tbody tr th {\n",
       "        vertical-align: top;\n",
       "    }\n",
       "\n",
       "    .dataframe thead th {\n",
       "        text-align: right;\n",
       "    }\n",
       "</style>\n",
       "<table border=\"1\" class=\"dataframe\">\n",
       "  <thead>\n",
       "    <tr style=\"text-align: right;\">\n",
       "      <th></th>\n",
       "      <th>boreratio</th>\n",
       "      <th>carwidth</th>\n",
       "      <th>wheelbase</th>\n",
       "      <th>carheight</th>\n",
       "      <th>carlength</th>\n",
       "      <th>stroke</th>\n",
       "      <th>curbweight</th>\n",
       "      <th>enginesize</th>\n",
       "      <th>compressionratio</th>\n",
       "      <th>horsepower</th>\n",
       "      <th>...</th>\n",
       "      <th>cylindernumber_three</th>\n",
       "      <th>cylindernumber_twelve</th>\n",
       "      <th>cylindernumber_two</th>\n",
       "      <th>fuelsystem_1bbl</th>\n",
       "      <th>fuelsystem_2bbl</th>\n",
       "      <th>fuelsystem_4bbl</th>\n",
       "      <th>fuelsystem_idi</th>\n",
       "      <th>fuelsystem_mfi</th>\n",
       "      <th>fuelsystem_mpfi</th>\n",
       "      <th>fuelsystem_spdi</th>\n",
       "    </tr>\n",
       "  </thead>\n",
       "  <tbody>\n",
       "    <tr>\n",
       "      <th>0</th>\n",
       "      <td>3.19</td>\n",
       "      <td>71.4</td>\n",
       "      <td>105.8</td>\n",
       "      <td>55.7</td>\n",
       "      <td>192.7</td>\n",
       "      <td>3.40</td>\n",
       "      <td>2954.0</td>\n",
       "      <td>136.0</td>\n",
       "      <td>8.5</td>\n",
       "      <td>110.0</td>\n",
       "      <td>...</td>\n",
       "      <td>0</td>\n",
       "      <td>0</td>\n",
       "      <td>0</td>\n",
       "      <td>0</td>\n",
       "      <td>0</td>\n",
       "      <td>0</td>\n",
       "      <td>0</td>\n",
       "      <td>0</td>\n",
       "      <td>1</td>\n",
       "      <td>0</td>\n",
       "    </tr>\n",
       "    <tr>\n",
       "      <th>1</th>\n",
       "      <td>3.15</td>\n",
       "      <td>62.5</td>\n",
       "      <td>96.5</td>\n",
       "      <td>54.1</td>\n",
       "      <td>175.4</td>\n",
       "      <td>3.58</td>\n",
       "      <td>2372.0</td>\n",
       "      <td>110.0</td>\n",
       "      <td>9.0</td>\n",
       "      <td>86.0</td>\n",
       "      <td>...</td>\n",
       "      <td>0</td>\n",
       "      <td>0</td>\n",
       "      <td>0</td>\n",
       "      <td>1</td>\n",
       "      <td>0</td>\n",
       "      <td>0</td>\n",
       "      <td>0</td>\n",
       "      <td>0</td>\n",
       "      <td>0</td>\n",
       "      <td>0</td>\n",
       "    </tr>\n",
       "    <tr>\n",
       "      <th>2</th>\n",
       "      <td>3.58</td>\n",
       "      <td>70.3</td>\n",
       "      <td>106.7</td>\n",
       "      <td>54.9</td>\n",
       "      <td>187.5</td>\n",
       "      <td>3.64</td>\n",
       "      <td>3495.0</td>\n",
       "      <td>183.0</td>\n",
       "      <td>21.5</td>\n",
       "      <td>123.0</td>\n",
       "      <td>...</td>\n",
       "      <td>0</td>\n",
       "      <td>0</td>\n",
       "      <td>0</td>\n",
       "      <td>0</td>\n",
       "      <td>0</td>\n",
       "      <td>0</td>\n",
       "      <td>1</td>\n",
       "      <td>0</td>\n",
       "      <td>0</td>\n",
       "      <td>0</td>\n",
       "    </tr>\n",
       "    <tr>\n",
       "      <th>3</th>\n",
       "      <td>3.63</td>\n",
       "      <td>69.6</td>\n",
       "      <td>113.0</td>\n",
       "      <td>52.8</td>\n",
       "      <td>199.6</td>\n",
       "      <td>4.17</td>\n",
       "      <td>4066.0</td>\n",
       "      <td>258.0</td>\n",
       "      <td>8.1</td>\n",
       "      <td>176.0</td>\n",
       "      <td>...</td>\n",
       "      <td>0</td>\n",
       "      <td>0</td>\n",
       "      <td>0</td>\n",
       "      <td>0</td>\n",
       "      <td>0</td>\n",
       "      <td>0</td>\n",
       "      <td>0</td>\n",
       "      <td>0</td>\n",
       "      <td>1</td>\n",
       "      <td>0</td>\n",
       "    </tr>\n",
       "    <tr>\n",
       "      <th>4</th>\n",
       "      <td>3.74</td>\n",
       "      <td>65.0</td>\n",
       "      <td>89.5</td>\n",
       "      <td>51.6</td>\n",
       "      <td>168.9</td>\n",
       "      <td>2.90</td>\n",
       "      <td>2756.0</td>\n",
       "      <td>194.0</td>\n",
       "      <td>9.5</td>\n",
       "      <td>207.0</td>\n",
       "      <td>...</td>\n",
       "      <td>0</td>\n",
       "      <td>0</td>\n",
       "      <td>0</td>\n",
       "      <td>0</td>\n",
       "      <td>0</td>\n",
       "      <td>0</td>\n",
       "      <td>0</td>\n",
       "      <td>0</td>\n",
       "      <td>1</td>\n",
       "      <td>0</td>\n",
       "    </tr>\n",
       "  </tbody>\n",
       "</table>\n",
       "<p>5 rows × 49 columns</p>\n",
       "</div>"
      ],
      "text/plain": [
       "   boreratio  carwidth  wheelbase  carheight  carlength  stroke  curbweight  \\\n",
       "0       3.19      71.4      105.8       55.7      192.7    3.40      2954.0   \n",
       "1       3.15      62.5       96.5       54.1      175.4    3.58      2372.0   \n",
       "2       3.58      70.3      106.7       54.9      187.5    3.64      3495.0   \n",
       "3       3.63      69.6      113.0       52.8      199.6    4.17      4066.0   \n",
       "4       3.74      65.0       89.5       51.6      168.9    2.90      2756.0   \n",
       "\n",
       "   enginesize  compressionratio  horsepower       ...         \\\n",
       "0       136.0               8.5       110.0       ...          \n",
       "1       110.0               9.0        86.0       ...          \n",
       "2       183.0              21.5       123.0       ...          \n",
       "3       258.0               8.1       176.0       ...          \n",
       "4       194.0               9.5       207.0       ...          \n",
       "\n",
       "   cylindernumber_three  cylindernumber_twelve  cylindernumber_two  \\\n",
       "0                     0                      0                   0   \n",
       "1                     0                      0                   0   \n",
       "2                     0                      0                   0   \n",
       "3                     0                      0                   0   \n",
       "4                     0                      0                   0   \n",
       "\n",
       "   fuelsystem_1bbl  fuelsystem_2bbl  fuelsystem_4bbl  fuelsystem_idi  \\\n",
       "0                0                0                0               0   \n",
       "1                1                0                0               0   \n",
       "2                0                0                0               1   \n",
       "3                0                0                0               0   \n",
       "4                0                0                0               0   \n",
       "\n",
       "   fuelsystem_mfi  fuelsystem_mpfi  fuelsystem_spdi  \n",
       "0               0                1                0  \n",
       "1               0                0                0  \n",
       "2               0                0                0  \n",
       "3               0                1                0  \n",
       "4               0                1                0  \n",
       "\n",
       "[5 rows x 49 columns]"
      ]
     },
     "execution_count": 32,
     "metadata": {},
     "output_type": "execute_result"
    }
   ],
   "source": [
    "##Encode the categorial values\n",
    "test_x_b = pd.Categorical(categorical_columns)\n",
    "test_x_b = pd.get_dummies(categorical_columns)\n",
    "test_x_c = pd.concat([test_x_a, test_x_b], axis = 1)\n",
    "test_x_c.head()"
   ]
  },
  {
   "cell_type": "code",
   "execution_count": 33,
   "metadata": {},
   "outputs": [
    {
     "data": {
      "text/html": [
       "<div>\n",
       "<style scoped>\n",
       "    .dataframe tbody tr th:only-of-type {\n",
       "        vertical-align: middle;\n",
       "    }\n",
       "\n",
       "    .dataframe tbody tr th {\n",
       "        vertical-align: top;\n",
       "    }\n",
       "\n",
       "    .dataframe thead th {\n",
       "        text-align: right;\n",
       "    }\n",
       "</style>\n",
       "<table border=\"1\" class=\"dataframe\">\n",
       "  <thead>\n",
       "    <tr style=\"text-align: right;\">\n",
       "      <th></th>\n",
       "      <th>boreratio</th>\n",
       "      <th>carwidth</th>\n",
       "      <th>wheelbase</th>\n",
       "      <th>carheight</th>\n",
       "      <th>carlength</th>\n",
       "      <th>stroke</th>\n",
       "      <th>curbweight</th>\n",
       "      <th>enginesize</th>\n",
       "      <th>compressionratio</th>\n",
       "      <th>horsepower</th>\n",
       "      <th>...</th>\n",
       "      <th>cylindernumber_three</th>\n",
       "      <th>cylindernumber_twelve</th>\n",
       "      <th>cylindernumber_two</th>\n",
       "      <th>fuelsystem_1bbl</th>\n",
       "      <th>fuelsystem_2bbl</th>\n",
       "      <th>fuelsystem_4bbl</th>\n",
       "      <th>fuelsystem_idi</th>\n",
       "      <th>fuelsystem_mfi</th>\n",
       "      <th>fuelsystem_mpfi</th>\n",
       "      <th>fuelsystem_spdi</th>\n",
       "    </tr>\n",
       "  </thead>\n",
       "  <tbody>\n",
       "    <tr>\n",
       "      <th>0</th>\n",
       "      <td>-0.712848</td>\n",
       "      <td>2.077580</td>\n",
       "      <td>0.944910</td>\n",
       "      <td>0.574022</td>\n",
       "      <td>1.330392</td>\n",
       "      <td>0.347447</td>\n",
       "      <td>0.468342</td>\n",
       "      <td>-0.031064</td>\n",
       "      <td>-0.496982</td>\n",
       "      <td>0.051041</td>\n",
       "      <td>...</td>\n",
       "      <td>-0.229416</td>\n",
       "      <td>-0.229416</td>\n",
       "      <td>-0.229416</td>\n",
       "      <td>-0.229416</td>\n",
       "      <td>-0.460566</td>\n",
       "      <td>-0.160128</td>\n",
       "      <td>-0.377964</td>\n",
       "      <td>-0.229416</td>\n",
       "      <td>0.951190</td>\n",
       "      <td>-0.229416</td>\n",
       "    </tr>\n",
       "    <tr>\n",
       "      <th>1</th>\n",
       "      <td>-0.859073</td>\n",
       "      <td>-1.498047</td>\n",
       "      <td>-0.496873</td>\n",
       "      <td>-0.084354</td>\n",
       "      <td>-0.092751</td>\n",
       "      <td>0.987246</td>\n",
       "      <td>-0.647169</td>\n",
       "      <td>-0.569510</td>\n",
       "      <td>-0.378371</td>\n",
       "      <td>-0.475832</td>\n",
       "      <td>...</td>\n",
       "      <td>-0.229416</td>\n",
       "      <td>-0.229416</td>\n",
       "      <td>-0.229416</td>\n",
       "      <td>4.358899</td>\n",
       "      <td>-0.460566</td>\n",
       "      <td>-0.160128</td>\n",
       "      <td>-0.377964</td>\n",
       "      <td>-0.229416</td>\n",
       "      <td>-1.051315</td>\n",
       "      <td>-0.229416</td>\n",
       "    </tr>\n",
       "  </tbody>\n",
       "</table>\n",
       "<p>2 rows × 49 columns</p>\n",
       "</div>"
      ],
      "text/plain": [
       "   boreratio  carwidth  wheelbase  carheight  carlength    stroke  curbweight  \\\n",
       "0  -0.712848  2.077580   0.944910   0.574022   1.330392  0.347447    0.468342   \n",
       "1  -0.859073 -1.498047  -0.496873  -0.084354  -0.092751  0.987246   -0.647169   \n",
       "\n",
       "   enginesize  compressionratio  horsepower       ...         \\\n",
       "0   -0.031064         -0.496982    0.051041       ...          \n",
       "1   -0.569510         -0.378371   -0.475832       ...          \n",
       "\n",
       "   cylindernumber_three  cylindernumber_twelve  cylindernumber_two  \\\n",
       "0             -0.229416              -0.229416           -0.229416   \n",
       "1             -0.229416              -0.229416           -0.229416   \n",
       "\n",
       "   fuelsystem_1bbl  fuelsystem_2bbl  fuelsystem_4bbl  fuelsystem_idi  \\\n",
       "0        -0.229416        -0.460566        -0.160128       -0.377964   \n",
       "1         4.358899        -0.460566        -0.160128       -0.377964   \n",
       "\n",
       "   fuelsystem_mfi  fuelsystem_mpfi  fuelsystem_spdi  \n",
       "0       -0.229416         0.951190        -0.229416  \n",
       "1       -0.229416        -1.051315        -0.229416  \n",
       "\n",
       "[2 rows x 49 columns]"
      ]
     },
     "execution_count": 33,
     "metadata": {},
     "output_type": "execute_result"
    }
   ],
   "source": [
    "####Feature Scaling\n",
    "from sklearn.preprocessing import StandardScaler\n",
    "ss = StandardScaler()\n",
    "test_x_d = ss.fit_transform(test_x_c)\n",
    "test_x = pd.DataFrame(test_x_d, columns = test_x_c.columns)\n",
    "test_x.head(2)"
   ]
  },
  {
   "cell_type": "markdown",
   "metadata": {},
   "source": [
    "## KNN REGGRESSOR TO PREDICT CAR PRICES "
   ]
  },
  {
   "cell_type": "markdown",
   "metadata": {},
   "source": [
    "### Training Vs Validation Plot:"
   ]
  },
  {
   "cell_type": "code",
   "execution_count": 17,
   "metadata": {},
   "outputs": [],
   "source": [
    "import pandas as pd\n",
    "from sklearn.model_selection import train_test_split\n",
    "from sklearn.neighbors import KNeighborsRegressor\n",
    "from sklearn.metrics import mean_squared_error\n",
    "from sklearn.metrics import accuracy_score\n",
    "import numpy as np\n",
    "import matplotlib.pyplot as plt\n",
    "from sklearn import neighbors"
   ]
  },
  {
   "cell_type": "code",
   "execution_count": 18,
   "metadata": {},
   "outputs": [],
   "source": [
    "# Split dataset into a validation and new training set \n",
    "from sklearn.model_selection import train_test_split\n",
    "\n",
    "train_split_x, val_split_x, train_split_y, val_split_y = train_test_split(train_x_e, train_y, test_size=0.2, random_state=0)"
   ]
  },
  {
   "cell_type": "code",
   "execution_count": 19,
   "metadata": {},
   "outputs": [],
   "source": [
    "# For every integer value k between 1 and 100 create and record a KNN Regression model’s training and validation MSEs\n",
    "# where the KNN model’s number of neighbours is k.\n",
    "from sklearn.neighbors import KNeighborsRegressor\n",
    "from sklearn.metrics import mean_squared_error\n",
    "\n",
    "knn_training_errors = []\n",
    "knn_validation_error = []\n",
    "for k in range(1, 101):\n",
    "    knn = KNeighborsRegressor(n_neighbors=k)\n",
    "    knn.fit(train_split_x, train_split_y)\n",
    "    train_pred = knn.predict(train_split_x)\n",
    "    val_pred = knn.predict(val_split_x)\n",
    "    train_error = mean_squared_error(train_split_y, train_pred)\n",
    "    val_error = mean_squared_error(val_split_y, val_pred)\n",
    "    knn_training_errors.append(train_error)\n",
    "    knn_validation_error.append(val_error)\n",
    "    "
   ]
  },
  {
   "cell_type": "code",
   "execution_count": 20,
   "metadata": {
    "scrolled": true
   },
   "outputs": [
    {
     "data": {
      "text/plain": [
       "Text(0,0.5,'MSE')"
      ]
     },
     "execution_count": 20,
     "metadata": {},
     "output_type": "execute_result"
    },
    {
     "data": {
      "image/png": "[encoded data removed]",
      "text/plain": [
       "<Figure size 432x288 with 1 Axes>"
      ]
     },
     "metadata": {},
     "output_type": "display_data"
    }
   ],
   "source": [
    "# training vs validation plot\n",
    "plt.plot(knn_training_errors, 'r-', label = 'train')\n",
    "plt.plot(knn_validation_error, 'b-', label = 'validation')\n",
    "plt.legend(loc='upper right', fontsize = 14)\n",
    "plt.xlabel('K value')\n",
    "plt.ylabel('MSE')"
   ]
  },
  {
   "cell_type": "markdown",
   "metadata": {},
   "source": [
    "### Test the model:"
   ]
  },
  {
   "cell_type": "code",
   "execution_count": 21,
   "metadata": {},
   "outputs": [
    {
     "name": "stdout",
     "output_type": "stream",
     "text": [
      "the best k is :  3\n"
     ]
    }
   ],
   "source": [
    "neighbors = list(range(1,30,1))\n",
    "optimal_k = neighbors[knn_validation_error.index(min(knn_validation_error))]\n",
    "optimal = optimal_k +1\n",
    "print('the best k is : ', optimal)"
   ]
  },
  {
   "cell_type": "code",
   "execution_count": 22,
   "metadata": {
    "ExecuteTime": {
     "end_time": "2019-12-13T17:59:49.282500Z",
     "start_time": "2019-12-13T17:59:49.277513Z"
    }
   },
   "outputs": [
    {
     "data": {
      "text/plain": [
       "KNeighborsRegressor(algorithm='auto', leaf_size=30, metric='minkowski',\n",
       "          metric_params=None, n_jobs=1, n_neighbors=3, p=2,\n",
       "          weights='uniform')"
      ]
     },
     "execution_count": 22,
     "metadata": {},
     "output_type": "execute_result"
    }
   ],
   "source": [
    "best_knn = KNeighborsRegressor(n_neighbors= 3)\n",
    "best_knn.fit(train_split_x, train_split_y)"
   ]
  },
  {
   "cell_type": "code",
   "execution_count": 23,
   "metadata": {},
   "outputs": [
    {
     "name": "stdout",
     "output_type": "stream",
     "text": [
      "10233815.975752693\n"
     ]
    }
   ],
   "source": [
    "knn_preds = best_knn.predict(val_split_x)\n",
    "knn_mse = mean_squared_error(val_split_y, knn_preds)\n",
    "print(knn_mse)"
   ]
  },
  {
   "cell_type": "markdown",
   "metadata": {},
   "source": [
    "## DECISION TREE REGRESSOR TO PREDICT CAR PRICES"
   ]
  },
  {
   "cell_type": "markdown",
   "metadata": {},
   "source": [
    "### Grid Search to find best model:"
   ]
  },
  {
   "cell_type": "code",
   "execution_count": 24,
   "metadata": {},
   "outputs": [],
   "source": [
    "#import libraries\n",
    "from sklearn import tree\n",
    "from sklearn.metrics import mean_squared_error\n",
    "from sklearn.tree import DecisionTreeRegressor\n",
    "from sklearn.model_selection import GridSearchCV\n",
    "from sklearn.model_selection import cross_val_score"
   ]
  },
  {
   "cell_type": "code",
   "execution_count": 25,
   "metadata": {},
   "outputs": [],
   "source": [
    "# Create a regressor object\n",
    "regressor = DecisionTreeRegressor(random_state=0)"
   ]
  },
  {
   "cell_type": "code",
   "execution_count": 26,
   "metadata": {
    "scrolled": true
   },
   "outputs": [],
   "source": [
    "# Define the grid of hyperparameters\n",
    "params = {\"max_depth\": [None,1,5,10], \n",
    "          \"max_features\": [\"auto\", \"sqrt\", \"log2\"], \n",
    "          \"min_samples_split\": [0.01, 0.05, 0.1, 0.3], \n",
    "          \"max_leaf_nodes\": [10, 50, 100, 250]}"
   ]
  },
  {
   "cell_type": "code",
   "execution_count": 27,
   "metadata": {},
   "outputs": [],
   "source": [
    "# Instantiate a 5-fold CV grid search object 'decision_tree_grid'\n",
    "decision_tree_grid = GridSearchCV(regressor, params, cv=5,scoring=\"neg_mean_squared_error\")"
   ]
  },
  {
   "cell_type": "code",
   "execution_count": 28,
   "metadata": {
    "scrolled": false
   },
   "outputs": [
    {
     "data": {
      "text/plain": [
       "GridSearchCV(cv=5, error_score='raise',\n",
       "       estimator=DecisionTreeRegressor(criterion='mse', max_depth=None, max_features=None,\n",
       "           max_leaf_nodes=None, min_impurity_decrease=0.0,\n",
       "           min_impurity_split=None, min_samples_leaf=1,\n",
       "           min_samples_split=2, min_weight_fraction_leaf=0.0,\n",
       "           presort=False, random_state=0, splitter='best'),\n",
       "       fit_params=None, iid=True, n_jobs=1,\n",
       "       param_grid={'max_features': ['auto', 'sqrt', 'log2'], 'min_samples_split': [0.01, 0.05, 0.1, 0.3], 'max_leaf_nodes': [10, 50, 100, 250], 'max_depth': [None, 1, 5, 10]},\n",
       "       pre_dispatch='2*n_jobs', refit=True, return_train_score='warn',\n",
       "       scoring='neg_mean_squared_error', verbose=0)"
      ]
     },
     "execution_count": 28,
     "metadata": {},
     "output_type": "execute_result"
    }
   ],
   "source": [
    "# Fit the model to the grid\n",
    "decision_tree_grid.fit(train_x_e,train_y)"
   ]
  },
  {
   "cell_type": "code",
   "execution_count": 29,
   "metadata": {},
   "outputs": [
    {
     "name": "stdout",
     "output_type": "stream",
     "text": [
      "-11206065.204759069\n",
      "{'max_features': 'auto', 'min_samples_split': 0.1, 'max_leaf_nodes': 50, 'max_depth': 5}\n"
     ]
    }
   ],
   "source": [
    "# Find best hyperparametrs\n",
    "best_acc = decision_tree_grid.best_score_\n",
    "print(best_acc)\n",
    "\n",
    "best_parameters = decision_tree_grid.best_params_\n",
    "print(best_parameters)"
   ]
  },
  {
   "cell_type": "markdown",
   "metadata": {},
   "source": [
    "### Test the model:"
   ]
  },
  {
   "cell_type": "code",
   "execution_count": 30,
   "metadata": {
    "scrolled": true
   },
   "outputs": [
    {
     "data": {
      "text/plain": [
       "DecisionTreeRegressor(criterion='mse', max_depth=5, max_features='auto',\n",
       "           max_leaf_nodes=50, min_impurity_decrease=0.0,\n",
       "           min_impurity_split=None, min_samples_leaf=1,\n",
       "           min_samples_split=0.1, min_weight_fraction_leaf=0.0,\n",
       "           presort=False, random_state=None, splitter='best')"
      ]
     },
     "execution_count": 30,
     "metadata": {},
     "output_type": "execute_result"
    }
   ],
   "source": [
    "# Fit the best hyperparameters to the tree\n",
    "best_tree = DecisionTreeRegressor(max_leaf_nodes = 50, min_samples_split = 0.1, max_depth = 5, max_features = 'auto')\n",
    "best_tree.fit(train_x_e, train_y)"
   ]
  },
  {
   "cell_type": "code",
   "execution_count": 31,
   "metadata": {},
   "outputs": [
    {
     "data": {
      "text/html": [
       "<div>\n",
       "<style scoped>\n",
       "    .dataframe tbody tr th:only-of-type {\n",
       "        vertical-align: middle;\n",
       "    }\n",
       "\n",
       "    .dataframe tbody tr th {\n",
       "        vertical-align: top;\n",
       "    }\n",
       "\n",
       "    .dataframe thead th {\n",
       "        text-align: right;\n",
       "    }\n",
       "</style>\n",
       "<table border=\"1\" class=\"dataframe\">\n",
       "  <thead>\n",
       "    <tr style=\"text-align: right;\">\n",
       "      <th></th>\n",
       "      <th>boreratio</th>\n",
       "      <th>carwidth</th>\n",
       "      <th>wheelbase</th>\n",
       "      <th>carheight</th>\n",
       "      <th>carlength</th>\n",
       "      <th>stroke</th>\n",
       "      <th>curbweight</th>\n",
       "      <th>enginesize</th>\n",
       "      <th>compressionratio</th>\n",
       "      <th>horsepower</th>\n",
       "      <th>...</th>\n",
       "      <th>cylindernumber_three</th>\n",
       "      <th>cylindernumber_twelve</th>\n",
       "      <th>cylindernumber_two</th>\n",
       "      <th>fuelsystem_1bbl</th>\n",
       "      <th>fuelsystem_2bbl</th>\n",
       "      <th>fuelsystem_4bbl</th>\n",
       "      <th>fuelsystem_idi</th>\n",
       "      <th>fuelsystem_mfi</th>\n",
       "      <th>fuelsystem_mpfi</th>\n",
       "      <th>fuelsystem_spdi</th>\n",
       "    </tr>\n",
       "  </thead>\n",
       "  <tbody>\n",
       "    <tr>\n",
       "      <th>0</th>\n",
       "      <td>-0.712848</td>\n",
       "      <td>2.077580</td>\n",
       "      <td>0.944910</td>\n",
       "      <td>0.574022</td>\n",
       "      <td>1.330392</td>\n",
       "      <td>0.347447</td>\n",
       "      <td>0.468342</td>\n",
       "      <td>-0.031064</td>\n",
       "      <td>-0.496982</td>\n",
       "      <td>0.051041</td>\n",
       "      <td>...</td>\n",
       "      <td>-0.229416</td>\n",
       "      <td>-0.229416</td>\n",
       "      <td>-0.229416</td>\n",
       "      <td>-0.229416</td>\n",
       "      <td>-0.460566</td>\n",
       "      <td>-0.160128</td>\n",
       "      <td>-0.377964</td>\n",
       "      <td>-0.229416</td>\n",
       "      <td>0.951190</td>\n",
       "      <td>-0.229416</td>\n",
       "    </tr>\n",
       "    <tr>\n",
       "      <th>1</th>\n",
       "      <td>-0.859073</td>\n",
       "      <td>-1.498047</td>\n",
       "      <td>-0.496873</td>\n",
       "      <td>-0.084354</td>\n",
       "      <td>-0.092751</td>\n",
       "      <td>0.987246</td>\n",
       "      <td>-0.647169</td>\n",
       "      <td>-0.569510</td>\n",
       "      <td>-0.378371</td>\n",
       "      <td>-0.475832</td>\n",
       "      <td>...</td>\n",
       "      <td>-0.229416</td>\n",
       "      <td>-0.229416</td>\n",
       "      <td>-0.229416</td>\n",
       "      <td>4.358899</td>\n",
       "      <td>-0.460566</td>\n",
       "      <td>-0.160128</td>\n",
       "      <td>-0.377964</td>\n",
       "      <td>-0.229416</td>\n",
       "      <td>-1.051315</td>\n",
       "      <td>-0.229416</td>\n",
       "    </tr>\n",
       "    <tr>\n",
       "      <th>2</th>\n",
       "      <td>0.712848</td>\n",
       "      <td>1.635649</td>\n",
       "      <td>1.084438</td>\n",
       "      <td>0.244834</td>\n",
       "      <td>0.902626</td>\n",
       "      <td>1.200512</td>\n",
       "      <td>1.505270</td>\n",
       "      <td>0.942279</td>\n",
       "      <td>2.586916</td>\n",
       "      <td>0.336430</td>\n",
       "      <td>...</td>\n",
       "      <td>-0.229416</td>\n",
       "      <td>-0.229416</td>\n",
       "      <td>-0.229416</td>\n",
       "      <td>-0.229416</td>\n",
       "      <td>-0.460566</td>\n",
       "      <td>-0.160128</td>\n",
       "      <td>2.645751</td>\n",
       "      <td>-0.229416</td>\n",
       "      <td>-1.051315</td>\n",
       "      <td>-0.229416</td>\n",
       "    </tr>\n",
       "    <tr>\n",
       "      <th>3</th>\n",
       "      <td>0.895629</td>\n",
       "      <td>1.354420</td>\n",
       "      <td>2.061129</td>\n",
       "      <td>-0.619285</td>\n",
       "      <td>1.898004</td>\n",
       "      <td>3.084366</td>\n",
       "      <td>2.599698</td>\n",
       "      <td>2.495487</td>\n",
       "      <td>-0.591871</td>\n",
       "      <td>1.499940</td>\n",
       "      <td>...</td>\n",
       "      <td>-0.229416</td>\n",
       "      <td>-0.229416</td>\n",
       "      <td>-0.229416</td>\n",
       "      <td>-0.229416</td>\n",
       "      <td>-0.460566</td>\n",
       "      <td>-0.160128</td>\n",
       "      <td>-0.377964</td>\n",
       "      <td>-0.229416</td>\n",
       "      <td>0.951190</td>\n",
       "      <td>-0.229416</td>\n",
       "    </tr>\n",
       "    <tr>\n",
       "      <th>4</th>\n",
       "      <td>1.297748</td>\n",
       "      <td>-0.493658</td>\n",
       "      <td>-1.582085</td>\n",
       "      <td>-1.113067</td>\n",
       "      <td>-0.627458</td>\n",
       "      <td>-1.429774</td>\n",
       "      <td>0.088838</td>\n",
       "      <td>1.170083</td>\n",
       "      <td>-0.259759</td>\n",
       "      <td>2.180483</td>\n",
       "      <td>...</td>\n",
       "      <td>-0.229416</td>\n",
       "      <td>-0.229416</td>\n",
       "      <td>-0.229416</td>\n",
       "      <td>-0.229416</td>\n",
       "      <td>-0.460566</td>\n",
       "      <td>-0.160128</td>\n",
       "      <td>-0.377964</td>\n",
       "      <td>-0.229416</td>\n",
       "      <td>0.951190</td>\n",
       "      <td>-0.229416</td>\n",
       "    </tr>\n",
       "  </tbody>\n",
       "</table>\n",
       "<p>5 rows × 49 columns</p>\n",
       "</div>"
      ],
      "text/plain": [
       "   boreratio  carwidth  wheelbase  carheight  carlength    stroke  curbweight  \\\n",
       "0  -0.712848  2.077580   0.944910   0.574022   1.330392  0.347447    0.468342   \n",
       "1  -0.859073 -1.498047  -0.496873  -0.084354  -0.092751  0.987246   -0.647169   \n",
       "2   0.712848  1.635649   1.084438   0.244834   0.902626  1.200512    1.505270   \n",
       "3   0.895629  1.354420   2.061129  -0.619285   1.898004  3.084366    2.599698   \n",
       "4   1.297748 -0.493658  -1.582085  -1.113067  -0.627458 -1.429774    0.088838   \n",
       "\n",
       "   enginesize  compressionratio  horsepower       ...         \\\n",
       "0   -0.031064         -0.496982    0.051041       ...          \n",
       "1   -0.569510         -0.378371   -0.475832       ...          \n",
       "2    0.942279          2.586916    0.336430       ...          \n",
       "3    2.495487         -0.591871    1.499940       ...          \n",
       "4    1.170083         -0.259759    2.180483       ...          \n",
       "\n",
       "   cylindernumber_three  cylindernumber_twelve  cylindernumber_two  \\\n",
       "0             -0.229416              -0.229416           -0.229416   \n",
       "1             -0.229416              -0.229416           -0.229416   \n",
       "2             -0.229416              -0.229416           -0.229416   \n",
       "3             -0.229416              -0.229416           -0.229416   \n",
       "4             -0.229416              -0.229416           -0.229416   \n",
       "\n",
       "   fuelsystem_1bbl  fuelsystem_2bbl  fuelsystem_4bbl  fuelsystem_idi  \\\n",
       "0        -0.229416        -0.460566        -0.160128       -0.377964   \n",
       "1         4.358899        -0.460566        -0.160128       -0.377964   \n",
       "2        -0.229416        -0.460566        -0.160128        2.645751   \n",
       "3        -0.229416        -0.460566        -0.160128       -0.377964   \n",
       "4        -0.229416        -0.460566        -0.160128       -0.377964   \n",
       "\n",
       "   fuelsystem_mfi  fuelsystem_mpfi  fuelsystem_spdi  \n",
       "0       -0.229416         0.951190        -0.229416  \n",
       "1       -0.229416        -1.051315        -0.229416  \n",
       "2       -0.229416        -1.051315        -0.229416  \n",
       "3       -0.229416         0.951190        -0.229416  \n",
       "4       -0.229416         0.951190        -0.229416  \n",
       "\n",
       "[5 rows x 49 columns]"
      ]
     },
     "execution_count": 31,
     "metadata": {},
     "output_type": "execute_result"
    }
   ],
   "source": [
    "test_x.head()"
   ]
  },
  {
   "cell_type": "code",
   "execution_count": 32,
   "metadata": {
    "scrolled": true
   },
   "outputs": [],
   "source": [
    "tree_preds = best_tree.predict(test_x)"
   ]
  },
  {
   "cell_type": "code",
   "execution_count": 33,
   "metadata": {
    "scrolled": true
   },
   "outputs": [
    {
     "name": "stdout",
     "output_type": "stream",
     "text": [
      "MSE:  127919314.77283998\n"
     ]
    }
   ],
   "source": [
    "tree_mse = mean_squared_error(test_y, tree_preds)\n",
    "print('MSE: ', tree_mse )"
   ]
  },
  {
   "cell_type": "markdown",
   "metadata": {},
   "source": [
    "## ENSEMBLE BAGGING REGRESSOR TO PREDICT CAR PRICES"
   ]
  },
  {
   "cell_type": "markdown",
   "metadata": {},
   "source": [
    "### Grid Search to find best model:"
   ]
  },
  {
   "cell_type": "code",
   "execution_count": 34,
   "metadata": {
    "scrolled": true
   },
   "outputs": [],
   "source": [
    "# Import libraries\n",
    "from sklearn.ensemble import BaggingRegressor"
   ]
  },
  {
   "cell_type": "code",
   "execution_count": 35,
   "metadata": {},
   "outputs": [
    {
     "name": "stdout",
     "output_type": "stream",
     "text": [
      "Best Parameters:  {'random_state': 0, 'base_estimator': DecisionTreeRegressor(criterion='mse', max_depth=None, max_features=None,\n",
      "           max_leaf_nodes=None, min_impurity_decrease=0.0,\n",
      "           min_impurity_split=None, min_samples_leaf=1,\n",
      "           min_samples_split=2, min_weight_fraction_leaf=0.0,\n",
      "           presort=False, random_state=0, splitter='best'), 'n_estimators': 25, 'bootstrap_features': True}\n",
      "MSE:  44093285.07585897\n"
     ]
    }
   ],
   "source": [
    "from sklearn.ensemble import BaggingRegressor\n",
    "from sklearn.linear_model import LinearRegression\n",
    "from sklearn.model_selection import GridSearchCV\n",
    "\n",
    "\n",
    "bagging_res = BaggingRegressor(random_state=0)\n",
    "\n",
    "params_bagging ={'base_estimator': [LinearRegression(), KNeighborsRegressor(), DecisionTreeRegressor(random_state = 0)],\n",
    "        'n_estimators': [25, 50, 100, 250 ],\n",
    "        'bootstrap_features': [False, True],\n",
    "        'random_state': [0]}\n",
    "\n",
    "bagging_grid = GridSearchCV(bagging_res, params_bagging, cv = 5, scoring = 'neg_mean_squared_error')\n",
    "br_fit= bagging_grid.fit(train_x_e, train_y)\n",
    "\n",
    "bagging_score = bagging_grid.score(test_x, test_y)\n",
    "\n",
    "print('Best Parameters: ', br_fit.best_params_)\n",
    "\n",
    "print('MSE: ', np.abs(bagging_score))\n"
   ]
  },
  {
   "cell_type": "markdown",
   "metadata": {},
   "source": [
    "### Test the model:"
   ]
  },
  {
   "cell_type": "code",
   "execution_count": 42,
   "metadata": {},
   "outputs": [],
   "source": [
    "best_bag = BaggingRegressor(base_estimator = DecisionTreeRegressor(random_state = 0), bootstrap_features = True, n_estimators = 25, random_state = 0)\n",
    "best_bag.fit(train_x_e, train_y)\n",
    "bagging_preds = best_bag.predict(test_x)"
   ]
  },
  {
   "cell_type": "code",
   "execution_count": 43,
   "metadata": {},
   "outputs": [
    {
     "name": "stdout",
     "output_type": "stream",
     "text": [
      "MSE:  44093285.07585897\n"
     ]
    }
   ],
   "source": [
    "bag_mse = mean_squared_error(test_y, bagging_preds)\n",
    "print('MSE: ', bag_mse )"
   ]
  },
  {
   "cell_type": "markdown",
   "metadata": {},
   "source": [
    "## RANDOM FOREST REGRESSOR TO PREDICT CAR PRICES"
   ]
  },
  {
   "cell_type": "markdown",
   "metadata": {},
   "source": [
    "### Grid Search to find best model:"
   ]
  },
  {
   "cell_type": "code",
   "execution_count": 54,
   "metadata": {},
   "outputs": [],
   "source": [
    "from sklearn.ensemble import RandomForestRegressor"
   ]
  },
  {
   "cell_type": "code",
   "execution_count": 60,
   "metadata": {},
   "outputs": [
    {
     "data": {
      "text/plain": [
       "GridSearchCV(cv=5, error_score='raise',\n",
       "       estimator=RandomForestRegressor(bootstrap=True, criterion='mse', max_depth=None,\n",
       "           max_features='auto', max_leaf_nodes=None,\n",
       "           min_impurity_decrease=0.0, min_impurity_split=None,\n",
       "           min_samples_leaf=1, min_samples_split=2,\n",
       "           min_weight_fraction_leaf=0.0, n_estimators=10, n_jobs=1,\n",
       "           oob_score=False, random_state=0, verbose=0, warm_start=False),\n",
       "       fit_params=None, iid=True, n_jobs=1,\n",
       "       param_grid={'max_depth': [None, 1, 5, 10], 'n_estimators': [25, 50, 100, 250]},\n",
       "       pre_dispatch='2*n_jobs', refit=True, return_train_score='warn',\n",
       "       scoring='neg_mean_squared_error', verbose=0)"
      ]
     },
     "execution_count": 60,
     "metadata": {},
     "output_type": "execute_result"
    }
   ],
   "source": [
    "# Fitting Random Forest Classification to the Training set\n",
    "from sklearn.ensemble import RandomForestRegressor\n",
    "classifier_random =RandomForestRegressor(random_state = 0)\n",
    "params ={'n_estimators': [25, 50, 100, 250 ],\n",
    "         \"max_depth\":[None,1,5,10]}\n",
    "grid_random=GridSearchCV(classifier_random,params,cv=5,scoring=\"neg_mean_squared_error\")\n",
    "grid_random.fit(train_x_e,train_y)"
   ]
  },
  {
   "cell_type": "code",
   "execution_count": 61,
   "metadata": {
    "scrolled": true
   },
   "outputs": [
    {
     "data": {
      "text/plain": [
       "GridSearchCV(cv=5, error_score='raise',\n",
       "       estimator=RandomForestRegressor(bootstrap=True, criterion='mse', max_depth=None,\n",
       "           max_features='auto', max_leaf_nodes=None,\n",
       "           min_impurity_decrease=0.0, min_impurity_split=None,\n",
       "           min_samples_leaf=1, min_samples_split=2,\n",
       "           min_weight_fraction_leaf=0.0, n_estimators=10, n_jobs=1,\n",
       "           oob_score=False, random_state=0, verbose=0, warm_start=False),\n",
       "       fit_params=None, iid=True, n_jobs=1,\n",
       "       param_grid={'max_depth': [None, 1, 5, 10], 'n_estimators': [25, 50, 100, 250]},\n",
       "       pre_dispatch='2*n_jobs', refit=True, return_train_score='warn',\n",
       "       scoring='neg_mean_squared_error', verbose=0)"
      ]
     },
     "execution_count": 61,
     "metadata": {},
     "output_type": "execute_result"
    }
   ],
   "source": [
    "# Fit it to the model\n",
    "random_forest_grid.fit(train_x_e,train_y)"
   ]
  },
  {
   "cell_type": "code",
   "execution_count": 62,
   "metadata": {},
   "outputs": [
    {
     "name": "stdout",
     "output_type": "stream",
     "text": [
      "-64169518.26408143\n",
      "{'max_depth': 10, 'n_estimators': 250}\n",
      "MSE:  64169518.26408143\n"
     ]
    }
   ],
   "source": [
    "# Find the best hyperparameters\n",
    "best_acc=grid_random.score(test_x, test_y)\n",
    "print(best_acc)\n",
    "\n",
    "best_parameters=grid_random.best_params_\n",
    "print(best_parameters)\n",
    "print('MSE: ', np.abs(best_acc))"
   ]
  },
  {
   "cell_type": "markdown",
   "metadata": {},
   "source": [
    "### Test the model:"
   ]
  },
  {
   "cell_type": "code",
   "execution_count": 65,
   "metadata": {},
   "outputs": [
    {
     "data": {
      "text/plain": [
       "RandomForestRegressor(bootstrap=True, criterion='mse', max_depth=10,\n",
       "           max_features='auto', max_leaf_nodes=None,\n",
       "           min_impurity_decrease=0.0, min_impurity_split=None,\n",
       "           min_samples_leaf=1, min_samples_split=2,\n",
       "           min_weight_fraction_leaf=0.0, n_estimators=250, n_jobs=1,\n",
       "           oob_score=False, random_state=None, verbose=0, warm_start=False)"
      ]
     },
     "execution_count": 65,
     "metadata": {},
     "output_type": "execute_result"
    }
   ],
   "source": [
    "best_random_forest= RandomForestRegressor(max_depth = 10, n_estimators = 250)\n",
    "best_random_forest.fit(train_x_e, train_y)"
   ]
  },
  {
   "cell_type": "code",
   "execution_count": 66,
   "metadata": {
    "scrolled": true
   },
   "outputs": [],
   "source": [
    "random_forest_preds = best_random_forest.predict(test_x)"
   ]
  },
  {
   "cell_type": "code",
   "execution_count": 67,
   "metadata": {
    "scrolled": true
   },
   "outputs": [
    {
     "name": "stdout",
     "output_type": "stream",
     "text": [
      "MSE:  64334650.941217124\n"
     ]
    }
   ],
   "source": [
    "random_forest_mse = mean_squared_error(test_y, random_forest_preds)\n",
    "print('MSE: ', random_forest_mse)"
   ]
  },
  {
   "cell_type": "markdown",
   "metadata": {},
   "source": [
    "### Feature Importances:"
   ]
  },
  {
   "cell_type": "code",
   "execution_count": 52,
   "metadata": {},
   "outputs": [],
   "source": [
    "from sklearn.feature_selection import SelectKBest\n",
    "from sklearn.feature_selection import chi2"
   ]
  },
  {
   "cell_type": "code",
   "execution_count": 53,
   "metadata": {},
   "outputs": [
    {
     "name": "stdout",
     "output_type": "stream",
     "text": [
      "[]\n"
     ]
    }
   ],
   "source": [
    "top_3_rf_features = []\n",
    "print(top_3_rf_features)"
   ]
  },
  {
   "cell_type": "code",
   "execution_count": null,
   "metadata": {},
   "outputs": [],
   "source": []
  }
 ],
 "metadata": {
  "kernelspec": {
   "display_name": "Python 3",
   "language": "python",
   "name": "python3"
  },
  "language_info": {
   "codemirror_mode": {
    "name": "ipython",
    "version": 3
   },
   "file_extension": ".py",
   "mimetype": "text/x-python",
   "name": "python",
   "nbconvert_exporter": "python",
   "pygments_lexer": "ipython3",
   "version": "3.7.6"
  },
  "toc": {
   "base_numbering": 1,
   "nav_menu": {},
   "number_sections": false,
   "sideBar": true,
   "skip_h1_title": false,
   "title_cell": "Table of Contents",
   "title_sidebar": "Contents",
   "toc_cell": false,
   "toc_position": {
    "height": "calc(100% - 180px)",
    "left": "10px",
    "top": "150px",
    "width": "284.444px"
   },
   "toc_section_display": true,
   "toc_window_display": false
  },
  "varInspector": {
   "cols": {
    "lenName": 16,
    "lenType": 16,
    "lenVar": 40
   },
   "kernels_config": {
    "python": {
     "delete_cmd_postfix": "",
     "delete_cmd_prefix": "del ",
     "library": "var_list.py",
     "varRefreshCmd": "print(var_dic_list())"
    },
    "r": {
     "delete_cmd_postfix": ") ",
     "delete_cmd_prefix": "rm(",
     "library": "var_list.r",
     "varRefreshCmd": "cat(var_dic_list()) "
    }
   },
   "types_to_exclude": [
    "module",
    "function",
    "builtin_function_or_method",
    "instance",
    "_Feature"
   ],
   "window_display": false
  }
 },
 "nbformat": 4,
 "nbformat_minor": 2
}
